{
  "nbformat": 4,
  "nbformat_minor": 0,
  "metadata": {
    "colab": {
      "name": "AssignmentSecond.ipynb",
      "provenance": [],
      "collapsed_sections": [],
      "toc_visible": true
    },
    "kernelspec": {
      "name": "python3",
      "display_name": "Python 3"
    },
    "accelerator": "GPU"
  },
  "cells": [
    {
      "cell_type": "code",
      "metadata": {
        "id": "-Vt9CYn9UuB0",
        "colab_type": "code",
        "colab": {}
      },
      "source": [
        "\n",
        "import matplotlib.pyplot as plt\n",
        "from pandas.plotting import table\n",
        "from nltk.tokenize import word_tokenize\n",
        "import seaborn as sns\n",
        "from nltk.tokenize import TweetTokenizer\n",
        "import datetime\n",
        "import numpy as np\n",
        "import pandas as pd\n",
        "from scipy import stats\n",
        "from scipy.sparse import hstack, csr_matrix\n",
        "from sklearn.model_selection import train_test_split, cross_val_score\n",
        "#from wordcloud import WordCloud\n",
        "from collections import Counter\n",
        "from nltk.corpus import stopwords\n",
        "from nltk.util import ngrams\n",
        "from sklearn.feature_extraction.text import TfidfVectorizer\n",
        "from sklearn.preprocessing import StandardScaler\n",
        "from sklearn.linear_model import LogisticRegression\n",
        "from sklearn.naive_bayes import MultinomialNB\n",
        "from sklearn.svm import LinearSVC\n",
        "from sklearn.multiclass import OneVsRestClassifier\n",
        "pd.set_option('max_colwidth',400)"
      ],
      "execution_count": 0,
      "outputs": []
    },
    {
      "cell_type": "code",
      "metadata": {
        "id": "Ff82NMGQVWiE",
        "colab_type": "code",
        "colab": {}
      },
      "source": [
        "train = pd.read_csv('https://raw.githubusercontent.com/cacoderquan/Sentiment-Analysis-on-the-Rotten-Tomatoes-movie-review-dataset/master/train.tsv', sep='\\t')"
      ],
      "execution_count": 0,
      "outputs": []
    },
    {
      "cell_type": "code",
      "metadata": {
        "id": "vwhb2z6LbHYx",
        "colab_type": "code",
        "outputId": "83a10f66-de3b-4d90-f4a8-5b10854793ce",
        "colab": {
          "base_uri": "https://localhost:8080/",
          "height": 221
        }
      },
      "source": [
        "train.head(5)"
      ],
      "execution_count": 0,
      "outputs": [
        {
          "output_type": "execute_result",
          "data": {
            "text/html": [
              "<div>\n",
              "<style scoped>\n",
              "    .dataframe tbody tr th:only-of-type {\n",
              "        vertical-align: middle;\n",
              "    }\n",
              "\n",
              "    .dataframe tbody tr th {\n",
              "        vertical-align: top;\n",
              "    }\n",
              "\n",
              "    .dataframe thead th {\n",
              "        text-align: right;\n",
              "    }\n",
              "</style>\n",
              "<table border=\"1\" class=\"dataframe\">\n",
              "  <thead>\n",
              "    <tr style=\"text-align: right;\">\n",
              "      <th></th>\n",
              "      <th>PhraseId</th>\n",
              "      <th>SentenceId</th>\n",
              "      <th>Phrase</th>\n",
              "      <th>Sentiment</th>\n",
              "    </tr>\n",
              "  </thead>\n",
              "  <tbody>\n",
              "    <tr>\n",
              "      <th>0</th>\n",
              "      <td>1</td>\n",
              "      <td>1</td>\n",
              "      <td>A series of escapades demonstrating the adage that what is good for the goose is also good for the gander , some of which occasionally amuses but none of which amounts to much of a story .</td>\n",
              "      <td>1</td>\n",
              "    </tr>\n",
              "    <tr>\n",
              "      <th>1</th>\n",
              "      <td>2</td>\n",
              "      <td>1</td>\n",
              "      <td>A series of escapades demonstrating the adage that what is good for the goose</td>\n",
              "      <td>2</td>\n",
              "    </tr>\n",
              "    <tr>\n",
              "      <th>2</th>\n",
              "      <td>3</td>\n",
              "      <td>1</td>\n",
              "      <td>A series</td>\n",
              "      <td>2</td>\n",
              "    </tr>\n",
              "    <tr>\n",
              "      <th>3</th>\n",
              "      <td>4</td>\n",
              "      <td>1</td>\n",
              "      <td>A</td>\n",
              "      <td>2</td>\n",
              "    </tr>\n",
              "    <tr>\n",
              "      <th>4</th>\n",
              "      <td>5</td>\n",
              "      <td>1</td>\n",
              "      <td>series</td>\n",
              "      <td>2</td>\n",
              "    </tr>\n",
              "  </tbody>\n",
              "</table>\n",
              "</div>"
            ],
            "text/plain": [
              "   PhraseId  ...  Sentiment\n",
              "0         1  ...          1\n",
              "1         2  ...          2\n",
              "2         3  ...          2\n",
              "3         4  ...          2\n",
              "4         5  ...          2\n",
              "\n",
              "[5 rows x 4 columns]"
            ]
          },
          "metadata": {
            "tags": []
          },
          "execution_count": 49
        }
      ]
    },
    {
      "cell_type": "code",
      "metadata": {
        "id": "2i3795OkbR42",
        "colab_type": "code",
        "outputId": "1ad98e12-6520-40aa-ac70-b67f039595f4",
        "colab": {
          "base_uri": "https://localhost:8080/",
          "height": 104
        }
      },
      "source": [
        "s=train.tail()\n",
        "df = pd.DataFrame(data=s)\n",
        "fig,ax = plt.subplots(figsize=(10.3,1.2)) \n",
        "ax.xaxis.set_visible(False)  \n",
        "ax.yaxis.set_visible(False)  \n",
        "ax.set_frame_on(False)\n",
        "tab = table(ax, df, loc='upper left')  \n",
        "tab.auto_set_font_size(False)\n",
        "tab.set_fontsize(10)\n",
        "plt.savefig('tail.png')"
      ],
      "execution_count": 0,
      "outputs": [
        {
          "output_type": "display_data",
          "data": {
            "image/png": "[encoded data removed]",
            "text/plain": [
              "<Figure size 741.6x86.4 with 1 Axes>"
            ]
          },
          "metadata": {
            "tags": []
          }
        }
      ]
    },
    {
      "cell_type": "code",
      "metadata": {
        "id": "jarT_qcLpSdo",
        "colab_type": "code",
        "colab": {}
      },
      "source": [
        "fullSentences = []\n",
        "curSentence = 0\n",
        "for i in range(train.shape[0]):\n",
        "  if train['SentenceId'][i]> curSentence:\n",
        "    fullSentences.append((train['Phrase'][i], train['Sentiment'][i]))\n",
        "    curSentence = curSentence +1"
      ],
      "execution_count": 0,
      "outputs": []
    },
    {
      "cell_type": "code",
      "metadata": {
        "id": "bPtxpEDXpkr5",
        "colab_type": "code",
        "outputId": "12eb9409-0f8d-43cc-f7a0-4d138d6f8333",
        "colab": {
          "base_uri": "https://localhost:8080/",
          "height": 238
        }
      },
      "source": [
        "fullSentDf = pd.DataFrame(fullSentences,columns=['Phrase', 'Sentiment'])\n",
        "fullSentDf.head(5)"
      ],
      "execution_count": 0,
      "outputs": [
        {
          "output_type": "execute_result",
          "data": {
            "text/html": [
              "<div>\n",
              "<style scoped>\n",
              "    .dataframe tbody tr th:only-of-type {\n",
              "        vertical-align: middle;\n",
              "    }\n",
              "\n",
              "    .dataframe tbody tr th {\n",
              "        vertical-align: top;\n",
              "    }\n",
              "\n",
              "    .dataframe thead th {\n",
              "        text-align: right;\n",
              "    }\n",
              "</style>\n",
              "<table border=\"1\" class=\"dataframe\">\n",
              "  <thead>\n",
              "    <tr style=\"text-align: right;\">\n",
              "      <th></th>\n",
              "      <th>Phrase</th>\n",
              "      <th>Sentiment</th>\n",
              "    </tr>\n",
              "  </thead>\n",
              "  <tbody>\n",
              "    <tr>\n",
              "      <th>0</th>\n",
              "      <td>A series of escapades demonstrating the adage that what is good for the goose is also good for the gander , some of which occasionally amuses but none of which amounts to much of a story .</td>\n",
              "      <td>1</td>\n",
              "    </tr>\n",
              "    <tr>\n",
              "      <th>1</th>\n",
              "      <td>This quiet , introspective and entertaining independent is worth seeking .</td>\n",
              "      <td>4</td>\n",
              "    </tr>\n",
              "    <tr>\n",
              "      <th>2</th>\n",
              "      <td>Even fans of Ismail Merchant 's work , I suspect , would have a hard time sitting through this one .</td>\n",
              "      <td>1</td>\n",
              "    </tr>\n",
              "    <tr>\n",
              "      <th>3</th>\n",
              "      <td>A positively thrilling combination of ethnography and all the intrigue , betrayal , deceit and murder of a Shakespearean tragedy or a juicy soap opera .</td>\n",
              "      <td>3</td>\n",
              "    </tr>\n",
              "    <tr>\n",
              "      <th>4</th>\n",
              "      <td>Aggressive self-glorification and a manipulative whitewash .</td>\n",
              "      <td>1</td>\n",
              "    </tr>\n",
              "  </tbody>\n",
              "</table>\n",
              "</div>"
            ],
            "text/plain": [
              "                                                                                                                                                                                         Phrase  Sentiment\n",
              "0  A series of escapades demonstrating the adage that what is good for the goose is also good for the gander , some of which occasionally amuses but none of which amounts to much of a story .          1\n",
              "1                                                                                                                    This quiet , introspective and entertaining independent is worth seeking .          4\n",
              "2                                                                                          Even fans of Ismail Merchant 's work , I suspect , would have a hard time sitting through this one .          1\n",
              "3                                      A positively thrilling combination of ethnography and all the intrigue , betrayal , deceit and murder of a Shakespearean tragedy or a juicy soap opera .          3\n",
              "4                                                                                                                                  Aggressive self-glorification and a manipulative whitewash .          1"
            ]
          },
          "metadata": {
            "tags": []
          },
          "execution_count": 52
        }
      ]
    },
    {
      "cell_type": "code",
      "metadata": {
        "id": "D-ka4JqYpm-E",
        "colab_type": "code",
        "outputId": "691332b5-e4df-44f3-88b4-d27c482fda9b",
        "colab": {
          "base_uri": "https://localhost:8080/",
          "height": 119
        }
      },
      "source": [
        "train['Sentiment'].value_counts()"
      ],
      "execution_count": 0,
      "outputs": [
        {
          "output_type": "execute_result",
          "data": {
            "text/plain": [
              "2    79582\n",
              "3    32927\n",
              "1    27273\n",
              "4     9206\n",
              "0     7072\n",
              "Name: Sentiment, dtype: int64"
            ]
          },
          "metadata": {
            "tags": []
          },
          "execution_count": 53
        }
      ]
    },
    {
      "cell_type": "code",
      "metadata": {
        "id": "00GIsAo7VaVt",
        "colab_type": "code",
        "colab": {}
      },
      "source": [
        ""
      ],
      "execution_count": 0,
      "outputs": []
    },
    {
      "cell_type": "code",
      "metadata": {
        "id": "sFr5eqt5VdiI",
        "colab_type": "code",
        "outputId": "e0c5a6d5-0af5-4dd6-fa2a-7b9383d68047",
        "colab": {
          "base_uri": "https://localhost:8080/",
          "height": 607
        }
      },
      "source": [
        "train.loc[train.SentenceId == 2]"
      ],
      "execution_count": 0,
      "outputs": [
        {
          "output_type": "execute_result",
          "data": {
            "text/html": [
              "<div>\n",
              "<style scoped>\n",
              "    .dataframe tbody tr th:only-of-type {\n",
              "        vertical-align: middle;\n",
              "    }\n",
              "\n",
              "    .dataframe tbody tr th {\n",
              "        vertical-align: top;\n",
              "    }\n",
              "\n",
              "    .dataframe thead th {\n",
              "        text-align: right;\n",
              "    }\n",
              "</style>\n",
              "<table border=\"1\" class=\"dataframe\">\n",
              "  <thead>\n",
              "    <tr style=\"text-align: right;\">\n",
              "      <th></th>\n",
              "      <th>PhraseId</th>\n",
              "      <th>SentenceId</th>\n",
              "      <th>Phrase</th>\n",
              "      <th>Sentiment</th>\n",
              "    </tr>\n",
              "  </thead>\n",
              "  <tbody>\n",
              "    <tr>\n",
              "      <th>63</th>\n",
              "      <td>64</td>\n",
              "      <td>2</td>\n",
              "      <td>This quiet , introspective and entertaining independent is worth seeking .</td>\n",
              "      <td>4</td>\n",
              "    </tr>\n",
              "    <tr>\n",
              "      <th>64</th>\n",
              "      <td>65</td>\n",
              "      <td>2</td>\n",
              "      <td>This quiet , introspective and entertaining independent</td>\n",
              "      <td>3</td>\n",
              "    </tr>\n",
              "    <tr>\n",
              "      <th>65</th>\n",
              "      <td>66</td>\n",
              "      <td>2</td>\n",
              "      <td>This</td>\n",
              "      <td>2</td>\n",
              "    </tr>\n",
              "    <tr>\n",
              "      <th>66</th>\n",
              "      <td>67</td>\n",
              "      <td>2</td>\n",
              "      <td>quiet , introspective and entertaining independent</td>\n",
              "      <td>4</td>\n",
              "    </tr>\n",
              "    <tr>\n",
              "      <th>67</th>\n",
              "      <td>68</td>\n",
              "      <td>2</td>\n",
              "      <td>quiet , introspective and entertaining</td>\n",
              "      <td>3</td>\n",
              "    </tr>\n",
              "    <tr>\n",
              "      <th>68</th>\n",
              "      <td>69</td>\n",
              "      <td>2</td>\n",
              "      <td>quiet</td>\n",
              "      <td>2</td>\n",
              "    </tr>\n",
              "    <tr>\n",
              "      <th>69</th>\n",
              "      <td>70</td>\n",
              "      <td>2</td>\n",
              "      <td>, introspective and entertaining</td>\n",
              "      <td>3</td>\n",
              "    </tr>\n",
              "    <tr>\n",
              "      <th>70</th>\n",
              "      <td>71</td>\n",
              "      <td>2</td>\n",
              "      <td>introspective and entertaining</td>\n",
              "      <td>3</td>\n",
              "    </tr>\n",
              "    <tr>\n",
              "      <th>71</th>\n",
              "      <td>72</td>\n",
              "      <td>2</td>\n",
              "      <td>introspective and</td>\n",
              "      <td>3</td>\n",
              "    </tr>\n",
              "    <tr>\n",
              "      <th>72</th>\n",
              "      <td>73</td>\n",
              "      <td>2</td>\n",
              "      <td>introspective</td>\n",
              "      <td>2</td>\n",
              "    </tr>\n",
              "    <tr>\n",
              "      <th>73</th>\n",
              "      <td>74</td>\n",
              "      <td>2</td>\n",
              "      <td>and</td>\n",
              "      <td>2</td>\n",
              "    </tr>\n",
              "    <tr>\n",
              "      <th>74</th>\n",
              "      <td>75</td>\n",
              "      <td>2</td>\n",
              "      <td>entertaining</td>\n",
              "      <td>4</td>\n",
              "    </tr>\n",
              "    <tr>\n",
              "      <th>75</th>\n",
              "      <td>76</td>\n",
              "      <td>2</td>\n",
              "      <td>independent</td>\n",
              "      <td>2</td>\n",
              "    </tr>\n",
              "    <tr>\n",
              "      <th>76</th>\n",
              "      <td>77</td>\n",
              "      <td>2</td>\n",
              "      <td>is worth seeking .</td>\n",
              "      <td>3</td>\n",
              "    </tr>\n",
              "    <tr>\n",
              "      <th>77</th>\n",
              "      <td>78</td>\n",
              "      <td>2</td>\n",
              "      <td>is worth seeking</td>\n",
              "      <td>4</td>\n",
              "    </tr>\n",
              "    <tr>\n",
              "      <th>78</th>\n",
              "      <td>79</td>\n",
              "      <td>2</td>\n",
              "      <td>is worth</td>\n",
              "      <td>2</td>\n",
              "    </tr>\n",
              "    <tr>\n",
              "      <th>79</th>\n",
              "      <td>80</td>\n",
              "      <td>2</td>\n",
              "      <td>worth</td>\n",
              "      <td>2</td>\n",
              "    </tr>\n",
              "    <tr>\n",
              "      <th>80</th>\n",
              "      <td>81</td>\n",
              "      <td>2</td>\n",
              "      <td>seeking</td>\n",
              "      <td>2</td>\n",
              "    </tr>\n",
              "  </tbody>\n",
              "</table>\n",
              "</div>"
            ],
            "text/plain": [
              "    PhraseId  ...  Sentiment\n",
              "63        64  ...          4\n",
              "64        65  ...          3\n",
              "65        66  ...          2\n",
              "66        67  ...          4\n",
              "67        68  ...          3\n",
              "68        69  ...          2\n",
              "69        70  ...          3\n",
              "70        71  ...          3\n",
              "71        72  ...          3\n",
              "72        73  ...          2\n",
              "73        74  ...          2\n",
              "74        75  ...          4\n",
              "75        76  ...          2\n",
              "76        77  ...          3\n",
              "77        78  ...          4\n",
              "78        79  ...          2\n",
              "79        80  ...          2\n",
              "80        81  ...          2\n",
              "\n",
              "[18 rows x 4 columns]"
            ]
          },
          "metadata": {
            "tags": []
          },
          "execution_count": 54
        }
      ]
    },
    {
      "cell_type": "code",
      "metadata": {
        "id": "cER-iDc1Vj2c",
        "colab_type": "code",
        "outputId": "f8cf7128-e67a-4a3e-9575-c5d99dc4b94e",
        "colab": {
          "base_uri": "https://localhost:8080/",
          "height": 119
        }
      },
      "source": [
        "train['Sentiment'].value_counts()"
      ],
      "execution_count": 0,
      "outputs": [
        {
          "output_type": "execute_result",
          "data": {
            "text/plain": [
              "2    79582\n",
              "3    32927\n",
              "1    27273\n",
              "4     9206\n",
              "0     7072\n",
              "Name: Sentiment, dtype: int64"
            ]
          },
          "metadata": {
            "tags": []
          },
          "execution_count": 55
        }
      ]
    },
    {
      "cell_type": "code",
      "metadata": {
        "id": "CiNGsybHVmg5",
        "colab_type": "code",
        "outputId": "70e9a495-b8a2-46d7-dd28-a6c0678cefb2",
        "colab": {
          "base_uri": "https://localhost:8080/",
          "height": 85
        }
      },
      "source": [
        "from nltk.tokenize import word_tokenize\n",
        "from nltk import FreqDist\n",
        "from nltk.stem import SnowballStemmer,WordNetLemmatizer\n",
        "stemmer=SnowballStemmer('english')\n",
        "lemma=WordNetLemmatizer()\n",
        "from string import punctuation\n",
        "import re\n",
        "import nltk\n",
        "nltk.download('punkt')\n",
        "nltk.download('wordnet')\n",
        "from keras.utils import to_categorical\n"
      ],
      "execution_count": 0,
      "outputs": [
        {
          "output_type": "stream",
          "text": [
            "[nltk_data] Downloading package punkt to /root/nltk_data...\n",
            "[nltk_data]   Package punkt is already up-to-date!\n",
            "[nltk_data] Downloading package wordnet to /root/nltk_data...\n",
            "[nltk_data]   Package wordnet is already up-to-date!\n"
          ],
          "name": "stdout"
        }
      ]
    },
    {
      "cell_type": "code",
      "metadata": {
        "id": "ZtbAfIdYVpFB",
        "colab_type": "code",
        "colab": {}
      },
      "source": [
        "def clean_review(review_col):\n",
        "    review_corpus=[]\n",
        "    for i in range(0,len(review_col)):\n",
        "        review=str(review_col[i])\n",
        "        review=re.sub('[^a-zA-Z]',' ',review)\n",
        "        \n",
        "        review=[lemma.lemmatize(w) for w in word_tokenize(str(review).lower())]\n",
        "        review=' '.join(review)\n",
        "        review_corpus.append(review)\n",
        "    return review_corpus"
      ],
      "execution_count": 0,
      "outputs": []
    },
    {
      "cell_type": "code",
      "metadata": {
        "id": "dKOIIyFJVrvd",
        "colab_type": "code",
        "colab": {}
      },
      "source": [
        "train['clean_review']=clean_review(train.Phrase.values)"
      ],
      "execution_count": 0,
      "outputs": []
    },
    {
      "cell_type": "code",
      "metadata": {
        "id": "H-QEVZu7Vy9x",
        "colab_type": "code",
        "outputId": "e028e5b9-7c40-45d1-a341-0a0f24235e61",
        "colab": {
          "base_uri": "https://localhost:8080/",
          "height": 289
        }
      },
      "source": [
        "train.head()"
      ],
      "execution_count": 0,
      "outputs": [
        {
          "output_type": "execute_result",
          "data": {
            "text/html": [
              "<div>\n",
              "<style scoped>\n",
              "    .dataframe tbody tr th:only-of-type {\n",
              "        vertical-align: middle;\n",
              "    }\n",
              "\n",
              "    .dataframe tbody tr th {\n",
              "        vertical-align: top;\n",
              "    }\n",
              "\n",
              "    .dataframe thead th {\n",
              "        text-align: right;\n",
              "    }\n",
              "</style>\n",
              "<table border=\"1\" class=\"dataframe\">\n",
              "  <thead>\n",
              "    <tr style=\"text-align: right;\">\n",
              "      <th></th>\n",
              "      <th>PhraseId</th>\n",
              "      <th>SentenceId</th>\n",
              "      <th>Phrase</th>\n",
              "      <th>Sentiment</th>\n",
              "      <th>clean_review</th>\n",
              "    </tr>\n",
              "  </thead>\n",
              "  <tbody>\n",
              "    <tr>\n",
              "      <th>0</th>\n",
              "      <td>1</td>\n",
              "      <td>1</td>\n",
              "      <td>A series of escapades demonstrating the adage that what is good for the goose is also good for the gander , some of which occasionally amuses but none of which amounts to much of a story .</td>\n",
              "      <td>1</td>\n",
              "      <td>a series of escapade demonstrating the adage that what is good for the goose is also good for the gander some of which occasionally amuses but none of which amount to much of a story</td>\n",
              "    </tr>\n",
              "    <tr>\n",
              "      <th>1</th>\n",
              "      <td>2</td>\n",
              "      <td>1</td>\n",
              "      <td>A series of escapades demonstrating the adage that what is good for the goose</td>\n",
              "      <td>2</td>\n",
              "      <td>a series of escapade demonstrating the adage that what is good for the goose</td>\n",
              "    </tr>\n",
              "    <tr>\n",
              "      <th>2</th>\n",
              "      <td>3</td>\n",
              "      <td>1</td>\n",
              "      <td>A series</td>\n",
              "      <td>2</td>\n",
              "      <td>a series</td>\n",
              "    </tr>\n",
              "    <tr>\n",
              "      <th>3</th>\n",
              "      <td>4</td>\n",
              "      <td>1</td>\n",
              "      <td>A</td>\n",
              "      <td>2</td>\n",
              "      <td>a</td>\n",
              "    </tr>\n",
              "    <tr>\n",
              "      <th>4</th>\n",
              "      <td>5</td>\n",
              "      <td>1</td>\n",
              "      <td>series</td>\n",
              "      <td>2</td>\n",
              "      <td>series</td>\n",
              "    </tr>\n",
              "  </tbody>\n",
              "</table>\n",
              "</div>"
            ],
            "text/plain": [
              "   PhraseId  ...                                                                                                                                                                            clean_review\n",
              "0         1  ...  a series of escapade demonstrating the adage that what is good for the goose is also good for the gander some of which occasionally amuses but none of which amount to much of a story\n",
              "1         2  ...                                                                                                            a series of escapade demonstrating the adage that what is good for the goose\n",
              "2         3  ...                                                                                                                                                                                a series\n",
              "3         4  ...                                                                                                                                                                                       a\n",
              "4         5  ...                                                                                                                                                                                  series\n",
              "\n",
              "[5 rows x 5 columns]"
            ]
          },
          "metadata": {
            "tags": []
          },
          "execution_count": 59
        }
      ]
    },
    {
      "cell_type": "code",
      "metadata": {
        "id": "_vV6CnT7V6Kr",
        "colab_type": "code",
        "colab": {}
      },
      "source": [
        "from sklearn.utils import resample\n",
        "train_2 = train[train['Sentiment']==2]\n",
        "train_1 = train[train['Sentiment']==1]\n",
        "train_3 = train[train['Sentiment']==3]\n",
        "train_4 = train[train['Sentiment']==4]\n",
        "train_5 = train[train['Sentiment']==0]\n",
        "train_2_sample = resample(train_2,replace=True,n_samples=55000,random_state=123)\n",
        "train_1_sample = resample(train_1,replace=True,n_samples=55000,random_state=123)\n",
        "train_3_sample = resample(train_3,replace=True,n_samples=55000,random_state=123)\n",
        "train_4_sample = resample(train_4,replace=True,n_samples=55000,random_state=123)\n",
        "train_5_sample = resample(train_5,replace=True,n_samples=55000,random_state=123)\n",
        "\n",
        "df_upsampled = pd.concat([train_2_sample, train_1_sample,train_3_sample,train_4_sample,train_5_sample])"
      ],
      "execution_count": 0,
      "outputs": []
    },
    {
      "cell_type": "code",
      "metadata": {
        "id": "FFYSnOqaV9VB",
        "colab_type": "code",
        "outputId": "f2d8f3f8-dbbf-491b-e532-b1bb635eeea7",
        "colab": {
          "base_uri": "https://localhost:8080/",
          "height": 238
        }
      },
      "source": [
        "df_upsampled.head()"
      ],
      "execution_count": 0,
      "outputs": [
        {
          "output_type": "execute_result",
          "data": {
            "text/html": [
              "<div>\n",
              "<style scoped>\n",
              "    .dataframe tbody tr th:only-of-type {\n",
              "        vertical-align: middle;\n",
              "    }\n",
              "\n",
              "    .dataframe tbody tr th {\n",
              "        vertical-align: top;\n",
              "    }\n",
              "\n",
              "    .dataframe thead th {\n",
              "        text-align: right;\n",
              "    }\n",
              "</style>\n",
              "<table border=\"1\" class=\"dataframe\">\n",
              "  <thead>\n",
              "    <tr style=\"text-align: right;\">\n",
              "      <th></th>\n",
              "      <th>PhraseId</th>\n",
              "      <th>SentenceId</th>\n",
              "      <th>Phrase</th>\n",
              "      <th>Sentiment</th>\n",
              "      <th>clean_review</th>\n",
              "    </tr>\n",
              "  </thead>\n",
              "  <tbody>\n",
              "    <tr>\n",
              "      <th>28496</th>\n",
              "      <td>28497</td>\n",
              "      <td>1318</td>\n",
              "      <td>J. Wilson</td>\n",
              "      <td>2</td>\n",
              "      <td>j wilson</td>\n",
              "    </tr>\n",
              "    <tr>\n",
              "      <th>52906</th>\n",
              "      <td>52907</td>\n",
              "      <td>2622</td>\n",
              "      <td>special-effects</td>\n",
              "      <td>2</td>\n",
              "      <td>special effect</td>\n",
              "    </tr>\n",
              "    <tr>\n",
              "      <th>32421</th>\n",
              "      <td>32422</td>\n",
              "      <td>1519</td>\n",
              "      <td>smash</td>\n",
              "      <td>2</td>\n",
              "      <td>smash</td>\n",
              "    </tr>\n",
              "    <tr>\n",
              "      <th>119168</th>\n",
              "      <td>119169</td>\n",
              "      <td>6369</td>\n",
              "      <td>minded</td>\n",
              "      <td>2</td>\n",
              "      <td>minded</td>\n",
              "    </tr>\n",
              "    <tr>\n",
              "      <th>122818</th>\n",
              "      <td>122819</td>\n",
              "      <td>6588</td>\n",
              "      <td>elevated by the wholesome twist of a pesky mother interfering during her son 's discovery of his homosexuality</td>\n",
              "      <td>2</td>\n",
              "      <td>elevated by the wholesome twist of a pesky mother interfering during her son s discovery of his homosexuality</td>\n",
              "    </tr>\n",
              "  </tbody>\n",
              "</table>\n",
              "</div>"
            ],
            "text/plain": [
              "        PhraseId  ...                                                                                                   clean_review\n",
              "28496      28497  ...                                                                                                       j wilson\n",
              "52906      52907  ...                                                                                                 special effect\n",
              "32421      32422  ...                                                                                                          smash\n",
              "119168    119169  ...                                                                                                         minded\n",
              "122818    122819  ...  elevated by the wholesome twist of a pesky mother interfering during her son s discovery of his homosexuality\n",
              "\n",
              "[5 rows x 5 columns]"
            ]
          },
          "metadata": {
            "tags": []
          },
          "execution_count": 61
        }
      ]
    },
    {
      "cell_type": "code",
      "metadata": {
        "id": "U3lhbMIVUpNa",
        "colab_type": "code",
        "colab": {}
      },
      "source": [
        "from sklearn.model_selection import train_test_split\n",
        "df_upsampled,test = train_test_split(df_upsampled, test_size=0.3, random_state=2003)"
      ],
      "execution_count": 0,
      "outputs": []
    },
    {
      "cell_type": "code",
      "metadata": {
        "id": "HYFqIoRQV_1i",
        "colab_type": "code",
        "outputId": "a187cd6d-b653-4bba-b549-a82a46d29d7c",
        "colab": {
          "base_uri": "https://localhost:8080/",
          "height": 238
        }
      },
      "source": [
        "test['clean_review']=clean_review(test.Phrase.values)\n",
        "test.head()"
      ],
      "execution_count": 0,
      "outputs": [
        {
          "output_type": "execute_result",
          "data": {
            "text/html": [
              "<div>\n",
              "<style scoped>\n",
              "    .dataframe tbody tr th:only-of-type {\n",
              "        vertical-align: middle;\n",
              "    }\n",
              "\n",
              "    .dataframe tbody tr th {\n",
              "        vertical-align: top;\n",
              "    }\n",
              "\n",
              "    .dataframe thead th {\n",
              "        text-align: right;\n",
              "    }\n",
              "</style>\n",
              "<table border=\"1\" class=\"dataframe\">\n",
              "  <thead>\n",
              "    <tr style=\"text-align: right;\">\n",
              "      <th></th>\n",
              "      <th>PhraseId</th>\n",
              "      <th>SentenceId</th>\n",
              "      <th>Phrase</th>\n",
              "      <th>Sentiment</th>\n",
              "      <th>clean_review</th>\n",
              "    </tr>\n",
              "  </thead>\n",
              "  <tbody>\n",
              "    <tr>\n",
              "      <th>140688</th>\n",
              "      <td>140689</td>\n",
              "      <td>7633</td>\n",
              "      <td>that 's what I liked about it -- the real issues tucked between the silly and crude storyline</td>\n",
              "      <td>3</td>\n",
              "      <td>that s what i liked about it the real issue tucked between the silly and crude storyline</td>\n",
              "    </tr>\n",
              "    <tr>\n",
              "      <th>107668</th>\n",
              "      <td>107669</td>\n",
              "      <td>5690</td>\n",
              "      <td>exalts the Marxian dream of honest working folk ,</td>\n",
              "      <td>3</td>\n",
              "      <td>exalts the marxian dream of honest working folk</td>\n",
              "    </tr>\n",
              "    <tr>\n",
              "      <th>3488</th>\n",
              "      <td>3489</td>\n",
              "      <td>129</td>\n",
              "      <td>pay to see it</td>\n",
              "      <td>3</td>\n",
              "      <td>pay to see it</td>\n",
              "    </tr>\n",
              "    <tr>\n",
              "      <th>97267</th>\n",
              "      <td>97268</td>\n",
              "      <td>5084</td>\n",
              "      <td>'s in danger of going wrong</td>\n",
              "      <td>1</td>\n",
              "      <td>s in danger of going wrong</td>\n",
              "    </tr>\n",
              "    <tr>\n",
              "      <th>79673</th>\n",
              "      <td>79674</td>\n",
              "      <td>4102</td>\n",
              "      <td>The plot has a number of holes , and</td>\n",
              "      <td>1</td>\n",
              "      <td>the plot ha a number of hole and</td>\n",
              "    </tr>\n",
              "  </tbody>\n",
              "</table>\n",
              "</div>"
            ],
            "text/plain": [
              "        PhraseId  ...                                                                              clean_review\n",
              "140688    140689  ...  that s what i liked about it the real issue tucked between the silly and crude storyline\n",
              "107668    107669  ...                                           exalts the marxian dream of honest working folk\n",
              "3488        3489  ...                                                                             pay to see it\n",
              "97267      97268  ...                                                                s in danger of going wrong\n",
              "79673      79674  ...                                                          the plot ha a number of hole and\n",
              "\n",
              "[5 rows x 5 columns]"
            ]
          },
          "metadata": {
            "tags": []
          },
          "execution_count": 63
        }
      ]
    },
    {
      "cell_type": "code",
      "metadata": {
        "id": "QObvYssoWDNG",
        "colab_type": "code",
        "colab": {}
      },
      "source": [
        "text = ' '.join(df_upsampled.loc[df_upsampled.Sentiment == 4, 'Phrase'].values)\n",
        "text_trigrams = [i for i in ngrams(text.split(), 3)]"
      ],
      "execution_count": 0,
      "outputs": []
    },
    {
      "cell_type": "code",
      "metadata": {
        "id": "mf4WFShyWGNR",
        "colab_type": "code",
        "colab": {}
      },
      "source": [
        "#Counter(text_trigrams).most_common(30)"
      ],
      "execution_count": 0,
      "outputs": []
    },
    {
      "cell_type": "code",
      "metadata": {
        "id": "qQbR1WqpWIjs",
        "colab_type": "code",
        "colab": {}
      },
      "source": [
        "tokenizer = TweetTokenizer()"
      ],
      "execution_count": 0,
      "outputs": []
    },
    {
      "cell_type": "code",
      "metadata": {
        "id": "1ieRuhmDWLfP",
        "colab_type": "code",
        "outputId": "93f5e5bd-2e98-48f4-d0e2-e3fa3272ce98",
        "colab": {
          "base_uri": "https://localhost:8080/",
          "height": 71
        }
      },
      "source": [
        "vectorizer = TfidfVectorizer(ngram_range=(1, 3), tokenizer=tokenizer.tokenize)\n",
        "#print(vectorizer)\n",
        "full_text = list(df_upsampled['clean_review'].values) + list(test['clean_review'].values)\n",
        "vectorizer.fit(full_text)\n",
        "df_upsampled_vectorized = vectorizer.transform(df_upsampled['clean_review'])\n",
        "#print(df_upsampled_vectorized)\n",
        "test_vectorized = vectorizer.transform(test['clean_review'])\n",
        "test1 = test['clean_review']\n",
        "test2 = test['Sentiment']\n",
        "test2 = to_categorical(test2)"
      ],
      "execution_count": 0,
      "outputs": [
        {
          "output_type": "stream",
          "text": [
            "/usr/local/lib/python3.6/dist-packages/sklearn/feature_extraction/text.py:507: UserWarning: The parameter 'token_pattern' will not be used since 'tokenizer' is not None'\n",
            "  warnings.warn(\"The parameter 'token_pattern' will not be used\"\n"
          ],
          "name": "stderr"
        }
      ]
    },
    {
      "cell_type": "code",
      "metadata": {
        "id": "VpvHosWqWN5H",
        "colab_type": "code",
        "colab": {}
      },
      "source": [
        "y = df_upsampled['Sentiment']"
      ],
      "execution_count": 0,
      "outputs": []
    },
    {
      "cell_type": "code",
      "metadata": {
        "id": "BGpKzVp7Wgeg",
        "colab_type": "code",
        "outputId": "8f8c7f9c-a215-4ad3-9f33-f2b835c417d1",
        "colab": {
          "base_uri": "https://localhost:8080/",
          "height": 221
        }
      },
      "source": [
        "\n",
        "X = df_upsampled['clean_review']\n",
        "# test_set = test['clean review']\n",
        "# Y = train['Sentiment']\n",
        "Y = to_categorical(df_upsampled['Sentiment'].values)\n",
        "print(X)"
      ],
      "execution_count": 0,
      "outputs": [
        {
          "output_type": "stream",
          "text": [
            "104742                                    might just be the movie you re looking for\n",
            "30509                                                                      enhancing\n",
            "155713                                              set a new benchmark for lameness\n",
            "132750    to see this terrific film with your kid if you do n t have kid borrow some\n",
            "43497                                          from developing any storytelling flow\n",
            "                                             ...                                    \n",
            "121981                                                                  fritter away\n",
            "62455                                                     is certainly easy to watch\n",
            "65061                                                               this day and age\n",
            "136312                                                                   sweet funny\n",
            "19821                                    an edgy thriller that delivers a surprising\n",
            "Name: clean_review, Length: 192500, dtype: object\n"
          ],
          "name": "stdout"
        }
      ]
    },
    {
      "cell_type": "code",
      "metadata": {
        "id": "DCC7LbQcWqbj",
        "colab_type": "code",
        "colab": {}
      },
      "source": [
        "from sklearn.model_selection import train_test_split\n",
        "X_train, X_val, Y_train, Y_val = train_test_split(X, Y, test_size=0.2, random_state=123)"
      ],
      "execution_count": 0,
      "outputs": []
    },
    {
      "cell_type": "code",
      "metadata": {
        "id": "80pW38AhWtL8",
        "colab_type": "code",
        "outputId": "eac89d2a-37f4-4036-d2be-dc138edde2ee",
        "colab": {
          "base_uri": "https://localhost:8080/",
          "height": 51
        }
      },
      "source": [
        "print(X_train.shape,Y_train.shape)\n",
        "print(X_val.shape,Y_val.shape)"
      ],
      "execution_count": 0,
      "outputs": [
        {
          "output_type": "stream",
          "text": [
            "(154000,) (154000, 5)\n",
            "(38500,) (38500, 5)\n"
          ],
          "name": "stdout"
        }
      ]
    },
    {
      "cell_type": "code",
      "metadata": {
        "id": "joL-2GVGWvY3",
        "colab_type": "code",
        "colab": {}
      },
      "source": [
        "from keras.preprocessing.text import Tokenizer\n",
        "from keras.preprocessing.sequence import pad_sequences\n",
        "from keras.utils import to_categorical"
      ],
      "execution_count": 0,
      "outputs": []
    },
    {
      "cell_type": "code",
      "metadata": {
        "id": "eGwAKUSqWxas",
        "colab_type": "code",
        "outputId": "9bb82a70-3130-4d75-e3ec-4b86223ed746",
        "colab": {
          "base_uri": "https://localhost:8080/",
          "height": 34
        }
      },
      "source": [
        "all_words=' '.join(X_train)\n",
        "all_words=word_tokenize(all_words)\n",
        "#print(all_words)\n",
        "dist=FreqDist(all_words)\n",
        "\n",
        "num_unique_word=len(dist)\n",
        "num_unique_word\n",
        "#X_train.head()"
      ],
      "execution_count": 0,
      "outputs": [
        {
          "output_type": "execute_result",
          "data": {
            "text/plain": [
              "13644"
            ]
          },
          "metadata": {
            "tags": []
          },
          "execution_count": 73
        }
      ]
    },
    {
      "cell_type": "code",
      "metadata": {
        "id": "UliKfQIKW0Z1",
        "colab_type": "code",
        "outputId": "b99ba1d3-820f-43ad-88c0-8704c940c3dd",
        "colab": {
          "base_uri": "https://localhost:8080/",
          "height": 34
        }
      },
      "source": [
        "r_len=[]\n",
        "for text in X_train:\n",
        "    word=word_tokenize(text)\n",
        "  #  print(text)\n",
        "    l=len(word)\n",
        "    r_len.append(l)\n",
        "    \n",
        "MAX_REVIEW_LEN=np.max(r_len)\n",
        "MAX_REVIEW_LEN"
      ],
      "execution_count": 0,
      "outputs": [
        {
          "output_type": "execute_result",
          "data": {
            "text/plain": [
              "48"
            ]
          },
          "metadata": {
            "tags": []
          },
          "execution_count": 74
        }
      ]
    },
    {
      "cell_type": "code",
      "metadata": {
        "id": "LTulo3kqW32E",
        "colab_type": "code",
        "colab": {}
      },
      "source": [
        "max_features = num_unique_word\n",
        "max_words = MAX_REVIEW_LEN\n",
        "batch_size = 64\n",
        "epochs = 25\n",
        "num_classes=5"
      ],
      "execution_count": 0,
      "outputs": []
    },
    {
      "cell_type": "code",
      "metadata": {
        "id": "O9ZEVgzxW61D",
        "colab_type": "code",
        "colab": {}
      },
      "source": [
        "from tensorflow.python.keras.models import Sequential\n",
        "from tensorflow.python.keras.layers import Dense, GRU, Embedding\n",
        "from tensorflow.python.keras.optimizers import Adam\n",
        "from tensorflow.python.keras.preprocessing.text import Tokenizer\n",
        "from tensorflow.python.keras.preprocessing.sequence import pad_sequences"
      ],
      "execution_count": 0,
      "outputs": []
    },
    {
      "cell_type": "code",
      "metadata": {
        "id": "tpWQruJ9XBRE",
        "colab_type": "code",
        "colab": {}
      },
      "source": [
        "tokenizer = Tokenizer(num_words=max_features)\n",
        "tokenizer.fit_on_texts(X_train)\n",
        "X_train = tokenizer.texts_to_sequences(X_train)\n",
        "X_val = tokenizer.texts_to_sequences(X_val)\n",
        "\n",
        "X_test = tokenizer.texts_to_sequences(test1)\n",
        "# #X_test"
      ],
      "execution_count": 0,
      "outputs": []
    },
    {
      "cell_type": "code",
      "metadata": {
        "id": "mujwPEjdXG88",
        "colab_type": "code",
        "colab": {}
      },
      "source": [
        "from keras.preprocessing import sequence,text\n",
        "from keras.preprocessing.text import Tokenizer\n",
        "from keras.models import Sequential\n",
        "from keras.preprocessing.sequence import pad_sequences"
      ],
      "execution_count": 0,
      "outputs": []
    },
    {
      "cell_type": "code",
      "metadata": {
        "id": "AZPHkJfvXNe2",
        "colab_type": "code",
        "outputId": "f00a4186-c075-4df8-d4f3-dc0c677d35c9",
        "colab": {
          "base_uri": "https://localhost:8080/",
          "height": 136
        }
      },
      "source": [
        "from keras.preprocessing import sequence,text\n",
        "from keras.preprocessing.text import Tokenizer\n",
        "from keras.models import Sequential\n",
        "from keras.preprocessing.sequence import pad_sequences\n",
        "X_train = sequence.pad_sequences(X_train, maxlen=max_words)\n",
        "X_val = sequence.pad_sequences(X_val, maxlen=max_words)\n",
        "X_test = sequence.pad_sequences(X_test, maxlen=max_words)\n",
        "#print(X_train.shape,X_val.shape)\n",
        "X_test"
      ],
      "execution_count": 0,
      "outputs": [
        {
          "output_type": "execute_result",
          "data": {
            "text/plain": [
              "array([[   0,    0,    0, ...,    3, 1465,  742],\n",
              "       [   0,    0,    0, ...,  489,  548, 1608],\n",
              "       [   0,    0,    0, ...,    5,  103,    6],\n",
              "       ...,\n",
              "       [   0,    0,    0, ...,  241,   33, 8571],\n",
              "       [   0,    0,    0, ...,    7,  347,  721],\n",
              "       [   0,    0,    0, ...,  439,    7, 2197]], dtype=int32)"
            ]
          },
          "metadata": {
            "tags": []
          },
          "execution_count": 79
        }
      ]
    },
    {
      "cell_type": "code",
      "metadata": {
        "id": "cMt0F_sHXNiG",
        "colab_type": "code",
        "colab": {}
      },
      "source": [
        "from keras.layers import Input, Dense, Embedding, Flatten\n",
        "from keras.layers import SpatialDropout1D\n",
        "from keras.layers.convolutional import Conv1D, MaxPooling1D\n",
        "from keras.models import Sequential"
      ],
      "execution_count": 0,
      "outputs": []
    },
    {
      "cell_type": "code",
      "metadata": {
        "id": "Y8P0dqwrXkGc",
        "colab_type": "code",
        "colab": {}
      },
      "source": [
        "model2 = Sequential()\n",
        "\n",
        "# Input / Embdedding\n",
        "model2.add(Embedding(max_features, 150, input_length=max_words))\n",
        "\n",
        "# CNN\n",
        "model2.add(SpatialDropout1D(0.2))\n",
        "\n",
        "model2.add(Conv1D(32, kernel_size=3, padding='same', activation='relu'))\n",
        "model2.add(MaxPooling1D(pool_size=2))\n",
        "\n",
        "model2.add(Conv1D(32, kernel_size=3, padding='same', activation='relu'))\n",
        "model2.add(MaxPooling1D(pool_size=2))\n",
        "\n",
        "model2.add(Conv1D(64, kernel_size=3, padding='same', activation='relu'))\n",
        "model2.add(MaxPooling1D(pool_size=2))\n",
        "\n",
        "model2.add(Flatten())\n",
        "\n",
        "model2.add(Dense(15, activation='softmax'))\n",
        "\n",
        "# Output layer\n",
        "\n",
        "model2.add(Dense(5, activation='softmax'))"
      ],
      "execution_count": 0,
      "outputs": []
    },
    {
      "cell_type": "code",
      "metadata": {
        "id": "TF2BO-bHXmd7",
        "colab_type": "code",
        "outputId": "bccaaef2-a60d-429b-d8d2-94a5c8545bb8",
        "colab": {
          "base_uri": "https://localhost:8080/",
          "height": 921
        }
      },
      "source": [
        "model2.compile(loss='categorical_crossentropy', optimizer='sgd', metrics=['accuracy'])\n",
        "model2.fit(X_train, Y_train, validation_data=(X_val, Y_val), epochs=epochs, batch_size=batch_size, verbose=1)"
      ],
      "execution_count": 0,
      "outputs": [
        {
          "output_type": "stream",
          "text": [
            "Train on 154000 samples, validate on 38500 samples\n",
            "Epoch 1/25\n",
            "154000/154000 [==============================] - 13s 85us/step - loss: 1.6097 - acc: 0.2011 - val_loss: 1.6094 - val_acc: 0.1993\n",
            "Epoch 2/25\n",
            "154000/154000 [==============================] - 13s 83us/step - loss: 1.6094 - acc: 0.2073 - val_loss: 1.6093 - val_acc: 0.1993\n",
            "Epoch 3/25\n",
            "154000/154000 [==============================] - 13s 83us/step - loss: 1.6093 - acc: 0.2076 - val_loss: 1.6092 - val_acc: 0.2098\n",
            "Epoch 4/25\n",
            "154000/154000 [==============================] - 13s 83us/step - loss: 1.6092 - acc: 0.2144 - val_loss: 1.6090 - val_acc: 0.2030\n",
            "Epoch 5/25\n",
            "154000/154000 [==============================] - 13s 83us/step - loss: 1.6090 - acc: 0.2105 - val_loss: 1.6088 - val_acc: 0.2470\n",
            "Epoch 6/25\n",
            "154000/154000 [==============================] - 13s 83us/step - loss: 1.6087 - acc: 0.2314 - val_loss: 1.6084 - val_acc: 0.2798\n",
            "Epoch 7/25\n",
            "154000/154000 [==============================] - 13s 83us/step - loss: 1.6082 - acc: 0.2362 - val_loss: 1.6078 - val_acc: 0.2722\n",
            "Epoch 8/25\n",
            "154000/154000 [==============================] - 13s 82us/step - loss: 1.6072 - acc: 0.2504 - val_loss: 1.6062 - val_acc: 0.2724\n",
            "Epoch 9/25\n",
            "154000/154000 [==============================] - 13s 83us/step - loss: 1.6037 - acc: 0.2734 - val_loss: 1.5970 - val_acc: 0.2805\n",
            "Epoch 10/25\n",
            "154000/154000 [==============================] - 13s 82us/step - loss: 1.5796 - acc: 0.2788 - val_loss: 1.5656 - val_acc: 0.2860\n",
            "Epoch 11/25\n",
            "154000/154000 [==============================] - 13s 82us/step - loss: 1.5607 - acc: 0.2862 - val_loss: 1.5569 - val_acc: 0.2896\n",
            "Epoch 12/25\n",
            "154000/154000 [==============================] - 13s 83us/step - loss: 1.5554 - acc: 0.2858 - val_loss: 1.5541 - val_acc: 0.2894\n",
            "Epoch 13/25\n",
            "154000/154000 [==============================] - 13s 82us/step - loss: 1.5530 - acc: 0.2859 - val_loss: 1.5513 - val_acc: 0.2882\n",
            "Epoch 14/25\n",
            "154000/154000 [==============================] - 13s 83us/step - loss: 1.5511 - acc: 0.2869 - val_loss: 1.5493 - val_acc: 0.2915\n",
            "Epoch 15/25\n",
            "154000/154000 [==============================] - 13s 81us/step - loss: 1.5487 - acc: 0.2888 - val_loss: 1.5470 - val_acc: 0.2928\n",
            "Epoch 16/25\n",
            "154000/154000 [==============================] - 13s 82us/step - loss: 1.5458 - acc: 0.2931 - val_loss: 1.5433 - val_acc: 0.2947\n",
            "Epoch 17/25\n",
            "154000/154000 [==============================] - 13s 81us/step - loss: 1.5419 - acc: 0.2967 - val_loss: 1.5380 - val_acc: 0.2998\n",
            "Epoch 18/25\n",
            "154000/154000 [==============================] - 13s 82us/step - loss: 1.5361 - acc: 0.3000 - val_loss: 1.5425 - val_acc: 0.2956\n",
            "Epoch 19/25\n",
            "154000/154000 [==============================] - 13s 83us/step - loss: 1.5273 - acc: 0.3039 - val_loss: 1.5249 - val_acc: 0.3044\n",
            "Epoch 20/25\n",
            "154000/154000 [==============================] - 13s 81us/step - loss: 1.5118 - acc: 0.3123 - val_loss: 1.5283 - val_acc: 0.2970\n",
            "Epoch 21/25\n",
            "154000/154000 [==============================] - 13s 83us/step - loss: 1.4861 - acc: 0.3257 - val_loss: 1.4671 - val_acc: 0.3363\n",
            "Epoch 22/25\n",
            "154000/154000 [==============================] - 13s 82us/step - loss: 1.4514 - acc: 0.3428 - val_loss: 1.4400 - val_acc: 0.3426\n",
            "Epoch 23/25\n",
            "154000/154000 [==============================] - 13s 84us/step - loss: 1.4157 - acc: 0.3573 - val_loss: 1.3968 - val_acc: 0.3678\n",
            "Epoch 24/25\n",
            "154000/154000 [==============================] - 13s 85us/step - loss: 1.3863 - acc: 0.3689 - val_loss: 1.3787 - val_acc: 0.3686\n",
            "Epoch 25/25\n",
            "154000/154000 [==============================] - 13s 83us/step - loss: 1.3605 - acc: 0.3805 - val_loss: 1.3622 - val_acc: 0.3802\n"
          ],
          "name": "stdout"
        },
        {
          "output_type": "execute_result",
          "data": {
            "text/plain": [
              "<keras.callbacks.History at 0x7f3a830f39e8>"
            ]
          },
          "metadata": {
            "tags": []
          },
          "execution_count": 82
        }
      ]
    },
    {
      "cell_type": "code",
      "metadata": {
        "id": "i-EKB3C7XsR-",
        "colab_type": "code",
        "outputId": "709d7c60-b968-4522-d35f-932ab0ce9790",
        "colab": {
          "base_uri": "https://localhost:8080/",
          "height": 272
        }
      },
      "source": [
        "from sklearn.metrics import classification_report, accuracy_score\n",
        "pred2=model2.predict_classes(X_test,verbose=1)\n",
        "pred2=to_categorical(pred2)\n",
        "print(classification_report(test2,pred2))\n",
        "print(\"Accuracy score:\",accuracy_score(test2,pred2))"
      ],
      "execution_count": 0,
      "outputs": [
        {
          "output_type": "stream",
          "text": [
            "82500/82500 [==============================] - 4s 43us/step\n",
            "              precision    recall  f1-score   support\n",
            "\n",
            "           0       0.36      0.83      0.50     16402\n",
            "           1       0.29      0.09      0.14     16544\n",
            "           2       0.52      0.69      0.59     16464\n",
            "           3       0.31      0.16      0.21     16662\n",
            "           4       0.20      0.11      0.14     16428\n",
            "\n",
            "   micro avg       0.38      0.38      0.38     82500\n",
            "   macro avg       0.34      0.38      0.32     82500\n",
            "weighted avg       0.34      0.38      0.32     82500\n",
            " samples avg       0.38      0.38      0.38     82500\n",
            "\n",
            "Accuracy score: 0.37608484848484847\n"
          ],
          "name": "stdout"
        }
      ]
    },
    {
      "cell_type": "code",
      "metadata": {
        "id": "w2eD4EowaLve",
        "colab_type": "code",
        "colab": {}
      },
      "source": [
        "model2.save(\"1107843_1dconv_regModel2.h5\")"
      ],
      "execution_count": 0,
      "outputs": []
    }
  ]
}